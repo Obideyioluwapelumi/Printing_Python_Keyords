{
 "cells": [
  {
   "cell_type": "code",
   "execution_count": 1,
   "id": "7fc216de",
   "metadata": {},
   "outputs": [
    {
     "name": "stdout",
     "output_type": "stream",
     "text": [
      "['False', 'None', 'True', '__peg_parser__', 'and', 'as', 'assert', 'async', 'await', 'break', 'class', 'continue', 'def', 'del', 'elif', 'else', 'except', 'finally', 'for', 'from', 'global', 'if', 'import', 'in', 'is', 'lambda', 'nonlocal', 'not', 'or', 'pass', 'raise', 'return', 'try', 'while', 'with', 'yield']\n"
     ]
    }
   ],
   "source": [
    "import keyword\n",
    "print (keyword.kwlist)"
   ]
  },
  {
   "cell_type": "code",
   "execution_count": 2,
   "id": "499f3ada",
   "metadata": {},
   "outputs": [
    {
     "name": "stdout",
     "output_type": "stream",
     "text": [
      "Total Number of Keywords:  36\n"
     ]
    }
   ],
   "source": [
    "import keyword\n",
    "print (\"Total Number of Keywords: \", len(keyword.kwlist))"
   ]
  },
  {
   "cell_type": "code",
   "execution_count": 5,
   "id": "be8f4ef4",
   "metadata": {
    "scrolled": true
   },
   "outputs": [
    {
     "name": "stdout",
     "output_type": "stream",
     "text": [
      "Keywords are resereved words in Python;\n",
      "They are case sensitive;\n",
      "We can not use keywrods as variable name, functon name or any other identifier\n"
     ]
    }
   ],
   "source": [
    "print (\"Keywords are resereved words in Python;\\nThey are case sensitive;\\nWe can not use keywrods as variable name, functon name or any other identifier\")"
   ]
  },
  {
   "cell_type": "code",
   "execution_count": 26,
   "id": "1074a3ee",
   "metadata": {},
   "outputs": [
    {
     "name": "stdout",
     "output_type": "stream",
     "text": [
      "1. Keywords are resereved words in Python;\n",
      "\n",
      "2. They are case sensitive;\n",
      "\n",
      "3. We can not use keywrods as variable name, \n",
      "functon name or any other identifier.\n",
      "\n",
      "\n",
      "Length of this statement is-   156\n"
     ]
    }
   ],
   "source": [
    "statement = '1. Keywords are resereved words in Python;\\n\\n2. They are case sensitive;\\n\\n3. We can not use keywrods as variable name, \\nfuncton name or any other identifier.'\n",
    "print (statement)\n",
    "print (\"\\n\\nLength of this statement is-  \", len(statement))"
   ]
  },
  {
   "cell_type": "code",
   "execution_count": 21,
   "id": "6d2e8c7a",
   "metadata": {},
   "outputs": [
    {
     "name": "stdout",
     "output_type": "stream",
     "text": [
      "Length of this statement is-   154\n"
     ]
    }
   ],
   "source": [
    "print (\"Length of this statement is-  \", len(statement))"
   ]
  },
  {
   "cell_type": "code",
   "execution_count": 34,
   "id": "1e8c7207",
   "metadata": {},
   "outputs": [
    {
     "name": "stdout",
     "output_type": "stream",
     "text": [
      "Identifiers\n",
      "\n",
      "\n",
      "1. It is the name given to entities like class, functions, variables etc \n",
      "2. It helps to one entity from the other. \n",
      "\n",
      "\n",
      "Rules for writing identifiers are:\n",
      " \n",
      "-It can be a combination of letters in #lowercase(a-z) or #uppercase(A-Z) or #digits(0-9) or #Underscore (_) \n",
      "\n",
      "-It can not start with digit e.g #1variable is invalid but #variable1 is perfect.\n",
      "\n",
      "-Keywords cannot be used as identifiers\n",
      "\n",
      "-We cannot use special symbols like (!, @, #, $, %, etc) in our identifiers\n"
     ]
    }
   ],
   "source": [
    "print ('Identifiers\\n')\n",
    "print ('\\n1. It is the name given to entities like class, functions, variables etc \\n2. It helps to one entity from the other. \\n\\n\\nRules for writing identifiers are:\\n \\n-It can be a combination of letters in #lowercase(a-z) or #uppercase(A-Z) or #digits(0-9) or #Underscore (_) \\n\\n-It can not start with digit e.g #1variable is invalid but #variable1 is perfect.\\n\\n-Keywords cannot be used as identifiers\\n\\n-We cannot use special symbols like (!, @, #, $, %, etc) in our identifiers')"
   ]
  },
  {
   "cell_type": "code",
   "execution_count": null,
   "id": "3955e56c",
   "metadata": {},
   "outputs": [],
   "source": []
  }
 ],
 "metadata": {
  "kernelspec": {
   "display_name": "Python 3 (ipykernel)",
   "language": "python",
   "name": "python3"
  },
  "language_info": {
   "codemirror_mode": {
    "name": "ipython",
    "version": 3
   },
   "file_extension": ".py",
   "mimetype": "text/x-python",
   "name": "python",
   "nbconvert_exporter": "python",
   "pygments_lexer": "ipython3",
   "version": "3.9.13"
  }
 },
 "nbformat": 4,
 "nbformat_minor": 5
}
